{
 "metadata": {
  "language_info": {
   "codemirror_mode": {
    "name": "ipython",
    "version": 3
   },
   "file_extension": ".py",
   "mimetype": "text/x-python",
   "name": "python",
   "nbconvert_exporter": "python",
   "pygments_lexer": "ipython3",
   "version": "3.8.3-final"
  },
  "orig_nbformat": 2,
  "kernelspec": {
   "name": "python3",
   "display_name": "Python 3",
   "language": "python"
  }
 },
 "nbformat": 4,
 "nbformat_minor": 2,
 "cells": [
  {
   "cell_type": "code",
   "execution_count": 2,
   "metadata": {},
   "outputs": [],
   "source": [
    "import numpy as np\n",
    "import tensorflow as tf\n",
    "from tensorflow import keras\n",
    "from tensorflow.keras import layers\n",
    "import pandas as pd"
   ]
  },
  {
   "cell_type": "code",
   "execution_count": 3,
   "metadata": {},
   "outputs": [
    {
     "output_type": "stream",
     "name": "stdout",
     "text": [
      "   FTR  HTGS  ATGS  HTGC  ATGC  HTP  ATP  HM1  HM2  HM3  ...  ATWinStreak5  \\\n0    0   0.0   0.0   0.0   0.0  0.0  0.0    2    2    2  ...             0   \n1    0   0.0   0.0   0.0   0.0  0.0  0.0    2    2    2  ...             0   \n2    1   0.0   0.0   0.0   0.0  0.0  0.0    2    2    2  ...             0   \n3    0   0.0   0.0   0.0   0.0  0.0  0.0    2    2    2  ...             0   \n4    1   0.0   0.0   0.0   0.0  0.0  0.0    2    2    2  ...             0   \n\n   ATLossStreak3  ATLossStreak5  HTGD  ATGD  DiffPts  DiffFormPts  DiffLP  \\\n0              0              0   0.0   0.0      0.0          0.0   -11.0   \n1              0              0   0.0   0.0      0.0          0.0     2.0   \n2              0              0   0.0   0.0      0.0          0.0     2.0   \n3              0              0   0.0   0.0      0.0          0.0   -17.0   \n4              0              0   0.0   0.0      0.0          0.0     4.0   \n\n   final1  final2  \n0     1.0     0.0  \n1     1.0     0.0  \n2     0.0     1.0  \n3     1.0     0.0  \n4     0.0     1.0  \n\n[5 rows x 30 columns]\n(1860, 30)\n"
     ]
    }
   ],
   "source": [
    "dataTrain=pd.read_csv(\"allAtt_onehot_large_train.csv\")\n",
    "dataTest=pd.read_csv(\"allAtt_onehot_large_test.csv\")\n",
    "print(dataTrain.head())\n",
    "print(dataTrain.shape)"
   ]
  },
  {
   "cell_type": "code",
   "execution_count": 12,
   "metadata": {},
   "outputs": [],
   "source": [
    "batch_size = 64\n",
    "# Each MNIST image batch is a tensor of shape (batch_size, 28, 1).\n",
    "# Each input sequence will be of size (28, 1).\n",
    "input_dim = 28\n",
    "\n",
    "units = 64\n",
    "output_size = 2  # labels are from Win or Loss\n",
    "\n",
    "# Build the RNN model\n",
    "def build_model(allow_cudnn_kernel=True):\n",
    "    # CuDNN is only available at the layer level, and not at the cell level.\n",
    "    # This means `LSTM(units)` will use the CuDNN kernel,\n",
    "    # while RNN(LSTMCell(units)) will run on non-CuDNN kernel.\n",
    "    if allow_cudnn_kernel:\n",
    "        # The LSTM layer with default options uses CuDNN.\n",
    "        lstm_layer = keras.layers.LSTM(units, input_shape=(input_dim,1))\n",
    "    else:\n",
    "        # Wrapping a LSTMCell in a RNN layer will not use CuDNN.\n",
    "        lstm_layer = keras.layers.RNN(\n",
    "            keras.layers.LSTMCell(units), input_shape=(input_dim,1)\n",
    "        )\n",
    "    model = keras.models.Sequential(\n",
    "        [\n",
    "            lstm_layer,\n",
    "            keras.layers.BatchNormalization(),\n",
    "            keras.layers.Dense(output_size),\n",
    "        ]\n",
    "    )\n",
    "    return model"
   ]
  },
  {
   "cell_type": "code",
   "execution_count": 13,
   "metadata": {},
   "outputs": [],
   "source": [
    "x_train, y_train = dataTrain.iloc[:,:28].values,dataTrain.iloc[:,28:].values\n",
    "x_train=np.reshape(x_train,(1860,28,1))\n",
    "x_test, y_test = dataTest.iloc[:,:28].values,dataTest.iloc[:,28:].values\n",
    "x_test=np.reshape(x_test,(800,28,1))"
   ]
  },
  {
   "cell_type": "code",
   "execution_count": 14,
   "metadata": {},
   "outputs": [
    {
     "output_type": "stream",
     "name": "stdout",
     "text": [
      "Model: \"sequential_2\"\n_________________________________________________________________\nLayer (type)                 Output Shape              Param #   \n=================================================================\nlstm_2 (LSTM)                (None, 64)                16896     \n_________________________________________________________________\nbatch_normalization_2 (Batch (None, 64)                256       \n_________________________________________________________________\ndense_2 (Dense)              (None, 2)                 130       \n=================================================================\nTotal params: 17,282\nTrainable params: 17,154\nNon-trainable params: 128\n_________________________________________________________________\n"
     ]
    }
   ],
   "source": [
    "model = build_model(allow_cudnn_kernel=True)\n",
    "\n",
    "model.compile(\n",
    "    loss=keras.losses.CategoricalCrossentropy(from_logits=True),\n",
    "    optimizer=\"Adam\",\n",
    "    metrics=[\"categorical_accuracy\"],\n",
    ")\n",
    "\n",
    "model.summary()"
   ]
  },
  {
   "cell_type": "code",
   "execution_count": 15,
   "metadata": {},
   "outputs": [
    {
     "output_type": "stream",
     "name": "stdout",
     "text": [
      "Epoch 1/10\n",
      "30/30 [==============================] - 1s 38ms/step - loss: 0.6385 - categorical_accuracy: 0.6441 - val_loss: 0.6875 - val_categorical_accuracy: 0.5263\n",
      "Epoch 2/10\n",
      "30/30 [==============================] - 1s 17ms/step - loss: 0.6098 - categorical_accuracy: 0.6629 - val_loss: 0.6845 - val_categorical_accuracy: 0.5263\n",
      "Epoch 3/10\n",
      "30/30 [==============================] - 1s 17ms/step - loss: 0.6032 - categorical_accuracy: 0.6710 - val_loss: 0.6866 - val_categorical_accuracy: 0.5263\n",
      "Epoch 4/10\n",
      "30/30 [==============================] - 1s 17ms/step - loss: 0.6026 - categorical_accuracy: 0.6656 - val_loss: 0.6827 - val_categorical_accuracy: 0.5263\n",
      "Epoch 5/10\n",
      "30/30 [==============================] - 1s 17ms/step - loss: 0.4334 - categorical_accuracy: 0.7984 - val_loss: 1.1739 - val_categorical_accuracy: 0.4737\n",
      "Epoch 6/10\n",
      "30/30 [==============================] - 1s 18ms/step - loss: 0.2904 - categorical_accuracy: 0.8758 - val_loss: 0.4544 - val_categorical_accuracy: 0.7312\n",
      "Epoch 7/10\n",
      "30/30 [==============================] - 1s 18ms/step - loss: 0.1449 - categorical_accuracy: 0.9468 - val_loss: 0.0988 - val_categorical_accuracy: 0.9650\n",
      "Epoch 8/10\n",
      "30/30 [==============================] - 1s 18ms/step - loss: 0.0720 - categorical_accuracy: 0.9688 - val_loss: 0.5171 - val_categorical_accuracy: 0.7950\n",
      "Epoch 9/10\n",
      "30/30 [==============================] - 1s 19ms/step - loss: 0.0820 - categorical_accuracy: 0.9672 - val_loss: 0.0598 - val_categorical_accuracy: 1.0000\n",
      "Epoch 10/10\n",
      "30/30 [==============================] - 1s 25ms/step - loss: 0.0208 - categorical_accuracy: 0.9952 - val_loss: 0.0207 - val_categorical_accuracy: 1.0000\n"
     ]
    },
    {
     "output_type": "execute_result",
     "data": {
      "text/plain": [
       "<tensorflow.python.keras.callbacks.History at 0x217ff544af0>"
      ]
     },
     "metadata": {},
     "execution_count": 15
    }
   ],
   "source": [
    "model.fit(\n",
    "    x_train, y_train, validation_data=(x_test, y_test), batch_size=batch_size, epochs=10\n",
    ")\n"
   ]
  },
  {
   "cell_type": "code",
   "execution_count": null,
   "metadata": {},
   "outputs": [],
   "source": []
  }
 ]
}