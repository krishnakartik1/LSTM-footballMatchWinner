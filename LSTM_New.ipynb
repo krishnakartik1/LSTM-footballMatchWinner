{
 "cells": [
  {
   "cell_type": "code",
   "execution_count": 1,
   "metadata": {},
   "outputs": [],
   "source": [
    "import numpy as np\n",
    "import tensorflow as tf\n",
    "from tensorflow import keras\n",
    "from tensorflow.keras import layers\n",
    "import pandas as pd"
   ]
  },
  {
   "cell_type": "code",
   "execution_count": 2,
   "metadata": {},
   "outputs": [
    {
     "name": "stdout",
     "output_type": "stream",
     "text": [
      "   FTR  HTGS  ATGS  HTGC  ATGC  HTP  ATP  HM1  HM2  HM3  ...  ATWinStreak5  \\\n",
      "0    0   0.0   0.0   0.0   0.0  0.0  0.0    2    2    2  ...             0   \n",
      "1    0   0.0   0.0   0.0   0.0  0.0  0.0    2    2    2  ...             0   \n",
      "2    1   0.0   0.0   0.0   0.0  0.0  0.0    2    2    2  ...             0   \n",
      "3    0   0.0   0.0   0.0   0.0  0.0  0.0    2    2    2  ...             0   \n",
      "4    1   0.0   0.0   0.0   0.0  0.0  0.0    2    2    2  ...             0   \n",
      "\n",
      "   ATLossStreak3  ATLossStreak5  HTGD  ATGD  DiffPts  DiffFormPts  DiffLP  \\\n",
      "0              0              0   0.0   0.0      0.0          0.0   -11.0   \n",
      "1              0              0   0.0   0.0      0.0          0.0     2.0   \n",
      "2              0              0   0.0   0.0      0.0          0.0     2.0   \n",
      "3              0              0   0.0   0.0      0.0          0.0   -17.0   \n",
      "4              0              0   0.0   0.0      0.0          0.0     4.0   \n",
      "\n",
      "   final1  final2  \n",
      "0     1.0     0.0  \n",
      "1     1.0     0.0  \n",
      "2     0.0     1.0  \n",
      "3     1.0     0.0  \n",
      "4     0.0     1.0  \n",
      "\n",
      "[5 rows x 30 columns]\n",
      "(1860, 30)\n"
     ]
    }
   ],
   "source": [
    "dataTrain=pd.read_csv(\"allAtt_onehot_large_train.csv\")\n",
    "dataTest=pd.read_csv(\"allAtt_onehot_large_test.csv\")\n",
    "print(dataTrain.head())\n",
    "print(dataTrain.shape)"
   ]
  },
  {
   "cell_type": "code",
   "execution_count": 8,
   "metadata": {},
   "outputs": [],
   "source": [
    "batch_size = 64\n",
    "# Each MNIST image batch is a tensor of shape (batch_size, 28, 1).\n",
    "# Each input sequence will be of size (28, 1).\n",
    "input_dim = 27\n",
    "\n",
    "units = 64\n",
    "output_size = 2  # labels are from Win or Loss\n",
    "\n",
    "# Build the RNN model\n",
    "def build_model(allow_cudnn_kernel=True):\n",
    "    # CuDNN is only available at the layer level, and not at the cell level.\n",
    "    # This means `LSTM(units)` will use the CuDNN kernel,\n",
    "    # while RNN(LSTMCell(units)) will run on non-CuDNN kernel.\n",
    "    if allow_cudnn_kernel:\n",
    "        # The LSTM layer with default options uses CuDNN.\n",
    "        lstm_layer = keras.layers.LSTM(units, input_shape=(input_dim,1))\n",
    "    else:\n",
    "        # Wrapping a LSTMCell in a RNN layer will not use CuDNN.\n",
    "        lstm_layer = keras.layers.RNN(\n",
    "            keras.layers.LSTMCell(units), input_shape=(input_dim,1)\n",
    "        )\n",
    "    model = keras.models.Sequential(\n",
    "        [\n",
    "            lstm_layer,\n",
    "            keras.layers.BatchNormalization(),\n",
    "            keras.layers.Dense(output_size),\n",
    "        ]\n",
    "    )\n",
    "    return model"
   ]
  },
  {
   "cell_type": "code",
   "execution_count": 9,
   "metadata": {},
   "outputs": [],
   "source": [
    "x_train, y_train = dataTrain.iloc[:,1:28].values,dataTrain.iloc[:,28:].values\n",
    "x_train=np.reshape(x_train,(1860,27,1))\n",
    "x_test, y_test = dataTest.iloc[:,1:28].values,dataTest.iloc[:,28:].values\n",
    "x_test=np.reshape(x_test,(800,27,1))"
   ]
  },
  {
   "cell_type": "code",
   "execution_count": 10,
   "metadata": {},
   "outputs": [
    {
     "name": "stdout",
     "output_type": "stream",
     "text": [
      "Model: \"sequential_1\"\n",
      "_________________________________________________________________\n",
      " Layer (type)                Output Shape              Param #   \n",
      "=================================================================\n",
      " lstm_1 (LSTM)               (None, 64)                16896     \n",
      "                                                                 \n",
      " batch_normalization_1 (Batc  (None, 64)               256       \n",
      " hNormalization)                                                 \n",
      "                                                                 \n",
      " dense_1 (Dense)             (None, 2)                 130       \n",
      "                                                                 \n",
      "=================================================================\n",
      "Total params: 17,282\n",
      "Trainable params: 17,154\n",
      "Non-trainable params: 128\n",
      "_________________________________________________________________\n"
     ]
    }
   ],
   "source": [
    "model = build_model(allow_cudnn_kernel=True)\n",
    "\n",
    "model.compile(\n",
    "    loss=keras.losses.CategoricalCrossentropy(from_logits=True),\n",
    "    optimizer=\"Adam\",\n",
    "    metrics=[\"categorical_accuracy\"],\n",
    ")\n",
    "\n",
    "model.summary()"
   ]
  },
  {
   "cell_type": "code",
   "execution_count": 11,
   "metadata": {},
   "outputs": [
    {
     "name": "stdout",
     "output_type": "stream",
     "text": [
      "Epoch 1/10\n",
      "30/30 [==============================] - 4s 95ms/step - loss: 0.6652 - categorical_accuracy: 0.6672 - val_loss: 0.6646 - val_categorical_accuracy: 0.6463\n",
      "Epoch 2/10\n",
      "30/30 [==============================] - 0s 12ms/step - loss: 0.6087 - categorical_accuracy: 0.6710 - val_loss: 0.6540 - val_categorical_accuracy: 0.6575\n",
      "Epoch 3/10\n",
      "30/30 [==============================] - 0s 12ms/step - loss: 0.6058 - categorical_accuracy: 0.6758 - val_loss: 0.6508 - val_categorical_accuracy: 0.6625\n",
      "Epoch 4/10\n",
      "30/30 [==============================] - 0s 12ms/step - loss: 0.6038 - categorical_accuracy: 0.6758 - val_loss: 0.6472 - val_categorical_accuracy: 0.6600\n",
      "Epoch 5/10\n",
      "30/30 [==============================] - 0s 12ms/step - loss: 0.6054 - categorical_accuracy: 0.6694 - val_loss: 0.6399 - val_categorical_accuracy: 0.6650\n",
      "Epoch 6/10\n",
      "30/30 [==============================] - 0s 13ms/step - loss: 0.6039 - categorical_accuracy: 0.6688 - val_loss: 0.6352 - val_categorical_accuracy: 0.6612\n",
      "Epoch 7/10\n",
      "30/30 [==============================] - 0s 13ms/step - loss: 0.6155 - categorical_accuracy: 0.6683 - val_loss: 0.6354 - val_categorical_accuracy: 0.6500\n",
      "Epoch 8/10\n",
      "30/30 [==============================] - 0s 12ms/step - loss: 0.6107 - categorical_accuracy: 0.6608 - val_loss: 0.6382 - val_categorical_accuracy: 0.6488\n",
      "Epoch 9/10\n",
      "30/30 [==============================] - 0s 12ms/step - loss: 0.6063 - categorical_accuracy: 0.6661 - val_loss: 0.6278 - val_categorical_accuracy: 0.6650\n",
      "Epoch 10/10\n",
      "30/30 [==============================] - 0s 12ms/step - loss: 0.6080 - categorical_accuracy: 0.6618 - val_loss: 0.6251 - val_categorical_accuracy: 0.6662\n"
     ]
    },
    {
     "data": {
      "text/plain": [
       "<keras.callbacks.History at 0x21e2a291270>"
      ]
     },
     "execution_count": 11,
     "metadata": {},
     "output_type": "execute_result"
    }
   ],
   "source": [
    "model.fit(\n",
    "    x_train, y_train, validation_data=(x_test, y_test), batch_size=batch_size, epochs=10\n",
    ")\n"
   ]
  },
  {
   "cell_type": "code",
   "execution_count": null,
   "metadata": {},
   "outputs": [],
   "source": []
  }
 ],
 "metadata": {
  "kernelspec": {
   "display_name": "Python 3.10.2 ('env': venv)",
   "language": "python",
   "name": "python3"
  },
  "language_info": {
   "codemirror_mode": {
    "name": "ipython",
    "version": 3
   },
   "file_extension": ".py",
   "mimetype": "text/x-python",
   "name": "python",
   "nbconvert_exporter": "python",
   "pygments_lexer": "ipython3",
   "version": "3.10.2"
  },
  "orig_nbformat": 2,
  "vscode": {
   "interpreter": {
    "hash": "c3626ccfd00731304f82403bb91d6453b216e3c6549bede09f619f7bcb05d1c7"
   }
  }
 },
 "nbformat": 4,
 "nbformat_minor": 2
}
