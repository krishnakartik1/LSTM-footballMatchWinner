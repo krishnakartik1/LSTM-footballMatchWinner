{
 "cells": [
  {
   "cell_type": "code",
   "execution_count": 1,
   "metadata": {},
   "outputs": [],
   "source": [
    "import pandas as pd\n",
    "from sklearn.preprocessing import OneHotEncoder\n",
    "from sklearn.preprocessing import LabelEncoder\n"
   ]
  },
  {
   "cell_type": "code",
   "execution_count": 2,
   "metadata": {},
   "outputs": [
    {
     "output_type": "execute_result",
     "data": {
      "text/plain": [
       "  FTR  HTGS      ATGS      HTGC      ATGC       HTP       ATP HM1 HM2 HM3  \\\n",
       "0  NH  0.38  0.468750  0.626506  0.632911  0.000000  0.000000   L   L   L   \n",
       "1   H  0.48  0.354167  0.578313  0.936709  0.028571  0.085714   D   W   L   \n",
       "2  NH  0.38  0.281250  0.566265  0.518987  0.000000  0.085714   L   L   W   \n",
       "3   H  0.55  0.583333  0.409639  0.506329  0.000000  0.000000   L   W   W   \n",
       "4  NH  0.34  0.614583  0.518072  0.518987  0.000000  0.085714   L   W   L   \n",
       "\n",
       "   ... HTLossStreak5 ATWinStreak3 ATWinStreak5 ATLossStreak3 ATLossStreak5  \\\n",
       "0  ...             0            0            0             0             0   \n",
       "1  ...             0            0            0             0             0   \n",
       "2  ...             0            0            0             0             0   \n",
       "3  ...             0            0            0             0             0   \n",
       "4  ...             0            0            0             0             0   \n",
       "\n",
       "       HTGD      ATGD   DiffPts  DiffFormPts  DiffLP  \n",
       "0 -0.400000 -0.142857  0.000000    -0.028571    -2.0  \n",
       "1  0.000000 -1.142857 -0.057143    -0.057143   -13.0  \n",
       "2 -0.257143 -0.400000 -0.085714    -0.171429     2.0  \n",
       "3  0.600000  0.457143  0.000000     0.085714    -2.0  \n",
       "4 -0.257143  0.514286 -0.085714     0.028571    12.0  \n",
       "\n",
       "[5 rows x 30 columns]"
      ],
      "text/html": "<div>\n<style scoped>\n    .dataframe tbody tr th:only-of-type {\n        vertical-align: middle;\n    }\n\n    .dataframe tbody tr th {\n        vertical-align: top;\n    }\n\n    .dataframe thead th {\n        text-align: right;\n    }\n</style>\n<table border=\"1\" class=\"dataframe\">\n  <thead>\n    <tr style=\"text-align: right;\">\n      <th></th>\n      <th>FTR</th>\n      <th>HTGS</th>\n      <th>ATGS</th>\n      <th>HTGC</th>\n      <th>ATGC</th>\n      <th>HTP</th>\n      <th>ATP</th>\n      <th>HM1</th>\n      <th>HM2</th>\n      <th>HM3</th>\n      <th>...</th>\n      <th>HTLossStreak5</th>\n      <th>ATWinStreak3</th>\n      <th>ATWinStreak5</th>\n      <th>ATLossStreak3</th>\n      <th>ATLossStreak5</th>\n      <th>HTGD</th>\n      <th>ATGD</th>\n      <th>DiffPts</th>\n      <th>DiffFormPts</th>\n      <th>DiffLP</th>\n    </tr>\n  </thead>\n  <tbody>\n    <tr>\n      <th>0</th>\n      <td>NH</td>\n      <td>0.38</td>\n      <td>0.468750</td>\n      <td>0.626506</td>\n      <td>0.632911</td>\n      <td>0.000000</td>\n      <td>0.000000</td>\n      <td>L</td>\n      <td>L</td>\n      <td>L</td>\n      <td>...</td>\n      <td>0</td>\n      <td>0</td>\n      <td>0</td>\n      <td>0</td>\n      <td>0</td>\n      <td>-0.400000</td>\n      <td>-0.142857</td>\n      <td>0.000000</td>\n      <td>-0.028571</td>\n      <td>-2.0</td>\n    </tr>\n    <tr>\n      <th>1</th>\n      <td>H</td>\n      <td>0.48</td>\n      <td>0.354167</td>\n      <td>0.578313</td>\n      <td>0.936709</td>\n      <td>0.028571</td>\n      <td>0.085714</td>\n      <td>D</td>\n      <td>W</td>\n      <td>L</td>\n      <td>...</td>\n      <td>0</td>\n      <td>0</td>\n      <td>0</td>\n      <td>0</td>\n      <td>0</td>\n      <td>0.000000</td>\n      <td>-1.142857</td>\n      <td>-0.057143</td>\n      <td>-0.057143</td>\n      <td>-13.0</td>\n    </tr>\n    <tr>\n      <th>2</th>\n      <td>NH</td>\n      <td>0.38</td>\n      <td>0.281250</td>\n      <td>0.566265</td>\n      <td>0.518987</td>\n      <td>0.000000</td>\n      <td>0.085714</td>\n      <td>L</td>\n      <td>L</td>\n      <td>W</td>\n      <td>...</td>\n      <td>0</td>\n      <td>0</td>\n      <td>0</td>\n      <td>0</td>\n      <td>0</td>\n      <td>-0.257143</td>\n      <td>-0.400000</td>\n      <td>-0.085714</td>\n      <td>-0.171429</td>\n      <td>2.0</td>\n    </tr>\n    <tr>\n      <th>3</th>\n      <td>H</td>\n      <td>0.55</td>\n      <td>0.583333</td>\n      <td>0.409639</td>\n      <td>0.506329</td>\n      <td>0.000000</td>\n      <td>0.000000</td>\n      <td>L</td>\n      <td>W</td>\n      <td>W</td>\n      <td>...</td>\n      <td>0</td>\n      <td>0</td>\n      <td>0</td>\n      <td>0</td>\n      <td>0</td>\n      <td>0.600000</td>\n      <td>0.457143</td>\n      <td>0.000000</td>\n      <td>0.085714</td>\n      <td>-2.0</td>\n    </tr>\n    <tr>\n      <th>4</th>\n      <td>NH</td>\n      <td>0.34</td>\n      <td>0.614583</td>\n      <td>0.518072</td>\n      <td>0.518987</td>\n      <td>0.000000</td>\n      <td>0.085714</td>\n      <td>L</td>\n      <td>W</td>\n      <td>L</td>\n      <td>...</td>\n      <td>0</td>\n      <td>0</td>\n      <td>0</td>\n      <td>0</td>\n      <td>0</td>\n      <td>-0.257143</td>\n      <td>0.514286</td>\n      <td>-0.085714</td>\n      <td>0.028571</td>\n      <td>12.0</td>\n    </tr>\n  </tbody>\n</table>\n<p>5 rows × 30 columns</p>\n</div>"
     },
     "metadata": {},
     "execution_count": 2
    }
   ],
   "source": [
    "data=pd.read_csv(\"datasets\\\\final_dataset.csv\")\n",
    "dataT=pd.read_csv(\"datasets\\\\test.csv\")\n",
    "data.head()\n",
    "dataT.head()"
   ]
  },
  {
   "cell_type": "code",
   "execution_count": 3,
   "metadata": {},
   "outputs": [
    {
     "output_type": "execute_result",
     "data": {
      "text/plain": [
       "   FTR  HTGS      ATGS      HTGC      ATGC       HTP       ATP HM1 HM2 HM3  \\\n",
       "0    1  0.38  0.468750  0.626506  0.632911  0.000000  0.000000   L   L   L   \n",
       "1    0  0.48  0.354167  0.578313  0.936709  0.028571  0.085714   D   W   L   \n",
       "2    1  0.38  0.281250  0.566265  0.518987  0.000000  0.085714   L   L   W   \n",
       "3    0  0.55  0.583333  0.409639  0.506329  0.000000  0.000000   L   W   W   \n",
       "4    1  0.34  0.614583  0.518072  0.518987  0.000000  0.085714   L   W   L   \n",
       "\n",
       "   ... HTLossStreak5 ATWinStreak3 ATWinStreak5 ATLossStreak3 ATLossStreak5  \\\n",
       "0  ...             0            0            0             0             0   \n",
       "1  ...             0            0            0             0             0   \n",
       "2  ...             0            0            0             0             0   \n",
       "3  ...             0            0            0             0             0   \n",
       "4  ...             0            0            0             0             0   \n",
       "\n",
       "       HTGD      ATGD   DiffPts  DiffFormPts  DiffLP  \n",
       "0 -0.400000 -0.142857  0.000000    -0.028571    -2.0  \n",
       "1  0.000000 -1.142857 -0.057143    -0.057143   -13.0  \n",
       "2 -0.257143 -0.400000 -0.085714    -0.171429     2.0  \n",
       "3  0.600000  0.457143  0.000000     0.085714    -2.0  \n",
       "4 -0.257143  0.514286 -0.085714     0.028571    12.0  \n",
       "\n",
       "[5 rows x 30 columns]"
      ],
      "text/html": "<div>\n<style scoped>\n    .dataframe tbody tr th:only-of-type {\n        vertical-align: middle;\n    }\n\n    .dataframe tbody tr th {\n        vertical-align: top;\n    }\n\n    .dataframe thead th {\n        text-align: right;\n    }\n</style>\n<table border=\"1\" class=\"dataframe\">\n  <thead>\n    <tr style=\"text-align: right;\">\n      <th></th>\n      <th>FTR</th>\n      <th>HTGS</th>\n      <th>ATGS</th>\n      <th>HTGC</th>\n      <th>ATGC</th>\n      <th>HTP</th>\n      <th>ATP</th>\n      <th>HM1</th>\n      <th>HM2</th>\n      <th>HM3</th>\n      <th>...</th>\n      <th>HTLossStreak5</th>\n      <th>ATWinStreak3</th>\n      <th>ATWinStreak5</th>\n      <th>ATLossStreak3</th>\n      <th>ATLossStreak5</th>\n      <th>HTGD</th>\n      <th>ATGD</th>\n      <th>DiffPts</th>\n      <th>DiffFormPts</th>\n      <th>DiffLP</th>\n    </tr>\n  </thead>\n  <tbody>\n    <tr>\n      <th>0</th>\n      <td>1</td>\n      <td>0.38</td>\n      <td>0.468750</td>\n      <td>0.626506</td>\n      <td>0.632911</td>\n      <td>0.000000</td>\n      <td>0.000000</td>\n      <td>L</td>\n      <td>L</td>\n      <td>L</td>\n      <td>...</td>\n      <td>0</td>\n      <td>0</td>\n      <td>0</td>\n      <td>0</td>\n      <td>0</td>\n      <td>-0.400000</td>\n      <td>-0.142857</td>\n      <td>0.000000</td>\n      <td>-0.028571</td>\n      <td>-2.0</td>\n    </tr>\n    <tr>\n      <th>1</th>\n      <td>0</td>\n      <td>0.48</td>\n      <td>0.354167</td>\n      <td>0.578313</td>\n      <td>0.936709</td>\n      <td>0.028571</td>\n      <td>0.085714</td>\n      <td>D</td>\n      <td>W</td>\n      <td>L</td>\n      <td>...</td>\n      <td>0</td>\n      <td>0</td>\n      <td>0</td>\n      <td>0</td>\n      <td>0</td>\n      <td>0.000000</td>\n      <td>-1.142857</td>\n      <td>-0.057143</td>\n      <td>-0.057143</td>\n      <td>-13.0</td>\n    </tr>\n    <tr>\n      <th>2</th>\n      <td>1</td>\n      <td>0.38</td>\n      <td>0.281250</td>\n      <td>0.566265</td>\n      <td>0.518987</td>\n      <td>0.000000</td>\n      <td>0.085714</td>\n      <td>L</td>\n      <td>L</td>\n      <td>W</td>\n      <td>...</td>\n      <td>0</td>\n      <td>0</td>\n      <td>0</td>\n      <td>0</td>\n      <td>0</td>\n      <td>-0.257143</td>\n      <td>-0.400000</td>\n      <td>-0.085714</td>\n      <td>-0.171429</td>\n      <td>2.0</td>\n    </tr>\n    <tr>\n      <th>3</th>\n      <td>0</td>\n      <td>0.55</td>\n      <td>0.583333</td>\n      <td>0.409639</td>\n      <td>0.506329</td>\n      <td>0.000000</td>\n      <td>0.000000</td>\n      <td>L</td>\n      <td>W</td>\n      <td>W</td>\n      <td>...</td>\n      <td>0</td>\n      <td>0</td>\n      <td>0</td>\n      <td>0</td>\n      <td>0</td>\n      <td>0.600000</td>\n      <td>0.457143</td>\n      <td>0.000000</td>\n      <td>0.085714</td>\n      <td>-2.0</td>\n    </tr>\n    <tr>\n      <th>4</th>\n      <td>1</td>\n      <td>0.34</td>\n      <td>0.614583</td>\n      <td>0.518072</td>\n      <td>0.518987</td>\n      <td>0.000000</td>\n      <td>0.085714</td>\n      <td>L</td>\n      <td>W</td>\n      <td>L</td>\n      <td>...</td>\n      <td>0</td>\n      <td>0</td>\n      <td>0</td>\n      <td>0</td>\n      <td>0</td>\n      <td>-0.257143</td>\n      <td>0.514286</td>\n      <td>-0.085714</td>\n      <td>0.028571</td>\n      <td>12.0</td>\n    </tr>\n  </tbody>\n</table>\n<p>5 rows × 30 columns</p>\n</div>"
     },
     "metadata": {},
     "execution_count": 3
    }
   ],
   "source": [
    "ftrLE=LabelEncoder()\n",
    "data.FTR=ftrLE.fit_transform(data.FTR)\n",
    "dataT.FTR=ftrLE.transform(dataT.FTR)\n",
    "dataT.head()"
   ]
  },
  {
   "cell_type": "code",
   "execution_count": 4,
   "metadata": {},
   "outputs": [
    {
     "output_type": "execute_result",
     "data": {
      "text/plain": [
       "   FTR  HTGS      ATGS      HTGC      ATGC       HTP       ATP  HM1 HM2 HM3  \\\n",
       "0    1  0.38  0.468750  0.626506  0.632911  0.000000  0.000000    1   L   L   \n",
       "1    0  0.48  0.354167  0.578313  0.936709  0.028571  0.085714    0   W   L   \n",
       "2    1  0.38  0.281250  0.566265  0.518987  0.000000  0.085714    1   L   W   \n",
       "3    0  0.55  0.583333  0.409639  0.506329  0.000000  0.000000    1   W   W   \n",
       "4    1  0.34  0.614583  0.518072  0.518987  0.000000  0.085714    1   W   L   \n",
       "\n",
       "   ... HTLossStreak5 ATWinStreak3 ATWinStreak5 ATLossStreak3 ATLossStreak5  \\\n",
       "0  ...             0            0            0             0             0   \n",
       "1  ...             0            0            0             0             0   \n",
       "2  ...             0            0            0             0             0   \n",
       "3  ...             0            0            0             0             0   \n",
       "4  ...             0            0            0             0             0   \n",
       "\n",
       "       HTGD      ATGD   DiffPts  DiffFormPts  DiffLP  \n",
       "0 -0.400000 -0.142857  0.000000    -0.028571    -2.0  \n",
       "1  0.000000 -1.142857 -0.057143    -0.057143   -13.0  \n",
       "2 -0.257143 -0.400000 -0.085714    -0.171429     2.0  \n",
       "3  0.600000  0.457143  0.000000     0.085714    -2.0  \n",
       "4 -0.257143  0.514286 -0.085714     0.028571    12.0  \n",
       "\n",
       "[5 rows x 30 columns]"
      ],
      "text/html": "<div>\n<style scoped>\n    .dataframe tbody tr th:only-of-type {\n        vertical-align: middle;\n    }\n\n    .dataframe tbody tr th {\n        vertical-align: top;\n    }\n\n    .dataframe thead th {\n        text-align: right;\n    }\n</style>\n<table border=\"1\" class=\"dataframe\">\n  <thead>\n    <tr style=\"text-align: right;\">\n      <th></th>\n      <th>FTR</th>\n      <th>HTGS</th>\n      <th>ATGS</th>\n      <th>HTGC</th>\n      <th>ATGC</th>\n      <th>HTP</th>\n      <th>ATP</th>\n      <th>HM1</th>\n      <th>HM2</th>\n      <th>HM3</th>\n      <th>...</th>\n      <th>HTLossStreak5</th>\n      <th>ATWinStreak3</th>\n      <th>ATWinStreak5</th>\n      <th>ATLossStreak3</th>\n      <th>ATLossStreak5</th>\n      <th>HTGD</th>\n      <th>ATGD</th>\n      <th>DiffPts</th>\n      <th>DiffFormPts</th>\n      <th>DiffLP</th>\n    </tr>\n  </thead>\n  <tbody>\n    <tr>\n      <th>0</th>\n      <td>1</td>\n      <td>0.38</td>\n      <td>0.468750</td>\n      <td>0.626506</td>\n      <td>0.632911</td>\n      <td>0.000000</td>\n      <td>0.000000</td>\n      <td>1</td>\n      <td>L</td>\n      <td>L</td>\n      <td>...</td>\n      <td>0</td>\n      <td>0</td>\n      <td>0</td>\n      <td>0</td>\n      <td>0</td>\n      <td>-0.400000</td>\n      <td>-0.142857</td>\n      <td>0.000000</td>\n      <td>-0.028571</td>\n      <td>-2.0</td>\n    </tr>\n    <tr>\n      <th>1</th>\n      <td>0</td>\n      <td>0.48</td>\n      <td>0.354167</td>\n      <td>0.578313</td>\n      <td>0.936709</td>\n      <td>0.028571</td>\n      <td>0.085714</td>\n      <td>0</td>\n      <td>W</td>\n      <td>L</td>\n      <td>...</td>\n      <td>0</td>\n      <td>0</td>\n      <td>0</td>\n      <td>0</td>\n      <td>0</td>\n      <td>0.000000</td>\n      <td>-1.142857</td>\n      <td>-0.057143</td>\n      <td>-0.057143</td>\n      <td>-13.0</td>\n    </tr>\n    <tr>\n      <th>2</th>\n      <td>1</td>\n      <td>0.38</td>\n      <td>0.281250</td>\n      <td>0.566265</td>\n      <td>0.518987</td>\n      <td>0.000000</td>\n      <td>0.085714</td>\n      <td>1</td>\n      <td>L</td>\n      <td>W</td>\n      <td>...</td>\n      <td>0</td>\n      <td>0</td>\n      <td>0</td>\n      <td>0</td>\n      <td>0</td>\n      <td>-0.257143</td>\n      <td>-0.400000</td>\n      <td>-0.085714</td>\n      <td>-0.171429</td>\n      <td>2.0</td>\n    </tr>\n    <tr>\n      <th>3</th>\n      <td>0</td>\n      <td>0.55</td>\n      <td>0.583333</td>\n      <td>0.409639</td>\n      <td>0.506329</td>\n      <td>0.000000</td>\n      <td>0.000000</td>\n      <td>1</td>\n      <td>W</td>\n      <td>W</td>\n      <td>...</td>\n      <td>0</td>\n      <td>0</td>\n      <td>0</td>\n      <td>0</td>\n      <td>0</td>\n      <td>0.600000</td>\n      <td>0.457143</td>\n      <td>0.000000</td>\n      <td>0.085714</td>\n      <td>-2.0</td>\n    </tr>\n    <tr>\n      <th>4</th>\n      <td>1</td>\n      <td>0.34</td>\n      <td>0.614583</td>\n      <td>0.518072</td>\n      <td>0.518987</td>\n      <td>0.000000</td>\n      <td>0.085714</td>\n      <td>1</td>\n      <td>W</td>\n      <td>L</td>\n      <td>...</td>\n      <td>0</td>\n      <td>0</td>\n      <td>0</td>\n      <td>0</td>\n      <td>0</td>\n      <td>-0.257143</td>\n      <td>0.514286</td>\n      <td>-0.085714</td>\n      <td>0.028571</td>\n      <td>12.0</td>\n    </tr>\n  </tbody>\n</table>\n<p>5 rows × 30 columns</p>\n</div>"
     },
     "metadata": {},
     "execution_count": 4
    }
   ],
   "source": [
    "hmLE=LabelEncoder()\n",
    "data.HM1=hmLE.fit_transform(data.HM1)\n",
    "dataT.HM1=hmLE.fit_transform(dataT.HM1)\n",
    "dataT.head()"
   ]
  },
  {
   "cell_type": "code",
   "execution_count": 5,
   "metadata": {},
   "outputs": [],
   "source": [
    "data.HM2=hmLE.fit_transform(data.HM2)\n",
    "data.HM3=hmLE.fit_transform(data.HM3)\n",
    "data.HM4=hmLE.fit_transform(data.HM4)\n",
    "data.HM5=hmLE.fit_transform(data.HM5)\n",
    "data.AM1=hmLE.fit_transform(data.AM1)\n",
    "data.AM2=hmLE.fit_transform(data.AM2)\n",
    "data.AM3=hmLE.fit_transform(data.AM3)\n",
    "data.AM4=hmLE.fit_transform(data.AM4)\n",
    "data.AM5=hmLE.fit_transform(data.AM5)\n",
    "\n",
    "dataT.HM2=hmLE.fit_transform(dataT.HM2)\n",
    "dataT.HM3=hmLE.fit_transform(dataT.HM3)\n",
    "dataT.HM4=hmLE.fit_transform(dataT.HM4)\n",
    "dataT.HM5=hmLE.fit_transform(dataT.HM5)\n",
    "dataT.AM1=hmLE.fit_transform(dataT.AM1)\n",
    "dataT.AM2=hmLE.fit_transform(dataT.AM2)\n",
    "dataT.AM3=hmLE.fit_transform(dataT.AM3)\n",
    "dataT.AM4=hmLE.fit_transform(dataT.AM4)\n",
    "dataT.AM5=hmLE.fit_transform(dataT.AM5)"
   ]
  },
  {
   "cell_type": "code",
   "execution_count": 6,
   "metadata": {},
   "outputs": [
    {
     "output_type": "execute_result",
     "data": {
      "text/plain": [
       "   FTR  HTGS  ATGS  HTGC  ATGC  HTP  ATP  HM1  HM2  HM3  ...  HTLossStreak5  \\\n",
       "0    0   0.0   0.0   0.0   0.0  0.0  0.0    2    2    2  ...              0   \n",
       "1    0   0.0   0.0   0.0   0.0  0.0  0.0    2    2    2  ...              0   \n",
       "2    1   0.0   0.0   0.0   0.0  0.0  0.0    2    2    2  ...              0   \n",
       "3    0   0.0   0.0   0.0   0.0  0.0  0.0    2    2    2  ...              0   \n",
       "4    1   0.0   0.0   0.0   0.0  0.0  0.0    2    2    2  ...              0   \n",
       "\n",
       "   ATWinStreak3  ATWinStreak5  ATLossStreak3  ATLossStreak5  HTGD  ATGD  \\\n",
       "0             0             0              0              0   0.0   0.0   \n",
       "1             0             0              0              0   0.0   0.0   \n",
       "2             0             0              0              0   0.0   0.0   \n",
       "3             0             0              0              0   0.0   0.0   \n",
       "4             0             0              0              0   0.0   0.0   \n",
       "\n",
       "   DiffPts  DiffFormPts  DiffLP  \n",
       "0      0.0          0.0   -11.0  \n",
       "1      0.0          0.0     2.0  \n",
       "2      0.0          0.0     2.0  \n",
       "3      0.0          0.0   -17.0  \n",
       "4      0.0          0.0     4.0  \n",
       "\n",
       "[5 rows x 30 columns]"
      ],
      "text/html": "<div>\n<style scoped>\n    .dataframe tbody tr th:only-of-type {\n        vertical-align: middle;\n    }\n\n    .dataframe tbody tr th {\n        vertical-align: top;\n    }\n\n    .dataframe thead th {\n        text-align: right;\n    }\n</style>\n<table border=\"1\" class=\"dataframe\">\n  <thead>\n    <tr style=\"text-align: right;\">\n      <th></th>\n      <th>FTR</th>\n      <th>HTGS</th>\n      <th>ATGS</th>\n      <th>HTGC</th>\n      <th>ATGC</th>\n      <th>HTP</th>\n      <th>ATP</th>\n      <th>HM1</th>\n      <th>HM2</th>\n      <th>HM3</th>\n      <th>...</th>\n      <th>HTLossStreak5</th>\n      <th>ATWinStreak3</th>\n      <th>ATWinStreak5</th>\n      <th>ATLossStreak3</th>\n      <th>ATLossStreak5</th>\n      <th>HTGD</th>\n      <th>ATGD</th>\n      <th>DiffPts</th>\n      <th>DiffFormPts</th>\n      <th>DiffLP</th>\n    </tr>\n  </thead>\n  <tbody>\n    <tr>\n      <th>0</th>\n      <td>0</td>\n      <td>0.0</td>\n      <td>0.0</td>\n      <td>0.0</td>\n      <td>0.0</td>\n      <td>0.0</td>\n      <td>0.0</td>\n      <td>2</td>\n      <td>2</td>\n      <td>2</td>\n      <td>...</td>\n      <td>0</td>\n      <td>0</td>\n      <td>0</td>\n      <td>0</td>\n      <td>0</td>\n      <td>0.0</td>\n      <td>0.0</td>\n      <td>0.0</td>\n      <td>0.0</td>\n      <td>-11.0</td>\n    </tr>\n    <tr>\n      <th>1</th>\n      <td>0</td>\n      <td>0.0</td>\n      <td>0.0</td>\n      <td>0.0</td>\n      <td>0.0</td>\n      <td>0.0</td>\n      <td>0.0</td>\n      <td>2</td>\n      <td>2</td>\n      <td>2</td>\n      <td>...</td>\n      <td>0</td>\n      <td>0</td>\n      <td>0</td>\n      <td>0</td>\n      <td>0</td>\n      <td>0.0</td>\n      <td>0.0</td>\n      <td>0.0</td>\n      <td>0.0</td>\n      <td>2.0</td>\n    </tr>\n    <tr>\n      <th>2</th>\n      <td>1</td>\n      <td>0.0</td>\n      <td>0.0</td>\n      <td>0.0</td>\n      <td>0.0</td>\n      <td>0.0</td>\n      <td>0.0</td>\n      <td>2</td>\n      <td>2</td>\n      <td>2</td>\n      <td>...</td>\n      <td>0</td>\n      <td>0</td>\n      <td>0</td>\n      <td>0</td>\n      <td>0</td>\n      <td>0.0</td>\n      <td>0.0</td>\n      <td>0.0</td>\n      <td>0.0</td>\n      <td>2.0</td>\n    </tr>\n    <tr>\n      <th>3</th>\n      <td>0</td>\n      <td>0.0</td>\n      <td>0.0</td>\n      <td>0.0</td>\n      <td>0.0</td>\n      <td>0.0</td>\n      <td>0.0</td>\n      <td>2</td>\n      <td>2</td>\n      <td>2</td>\n      <td>...</td>\n      <td>0</td>\n      <td>0</td>\n      <td>0</td>\n      <td>0</td>\n      <td>0</td>\n      <td>0.0</td>\n      <td>0.0</td>\n      <td>0.0</td>\n      <td>0.0</td>\n      <td>-17.0</td>\n    </tr>\n    <tr>\n      <th>4</th>\n      <td>1</td>\n      <td>0.0</td>\n      <td>0.0</td>\n      <td>0.0</td>\n      <td>0.0</td>\n      <td>0.0</td>\n      <td>0.0</td>\n      <td>2</td>\n      <td>2</td>\n      <td>2</td>\n      <td>...</td>\n      <td>0</td>\n      <td>0</td>\n      <td>0</td>\n      <td>0</td>\n      <td>0</td>\n      <td>0.0</td>\n      <td>0.0</td>\n      <td>0.0</td>\n      <td>0.0</td>\n      <td>4.0</td>\n    </tr>\n  </tbody>\n</table>\n<p>5 rows × 30 columns</p>\n</div>"
     },
     "metadata": {},
     "execution_count": 6
    }
   ],
   "source": [
    "data.head()"
   ]
  },
  {
   "cell_type": "code",
   "execution_count": 7,
   "metadata": {},
   "outputs": [
    {
     "output_type": "stream",
     "name": "stdout",
     "text": [
      "(1860, 30)\n(800, 30)\n"
     ]
    }
   ],
   "source": [
    "print(data.shape)\n",
    "print(dataT.shape)"
   ]
  },
  {
   "cell_type": "code",
   "execution_count": 9,
   "metadata": {},
   "outputs": [
    {
     "output_type": "execute_result",
     "data": {
      "text/plain": [
       "OneHotEncoder()"
      ]
     },
     "metadata": {},
     "execution_count": 9
    }
   ],
   "source": [
    "onehotencoder=OneHotEncoder()\n",
    "onehotencoder.fit(data.FTR.values.reshape(-1,1))"
   ]
  },
  {
   "cell_type": "code",
   "execution_count": 10,
   "metadata": {},
   "outputs": [],
   "source": [
    "final=onehotencoder.transform([[each] for each in data.FTR]).toarray()"
   ]
  },
  {
   "cell_type": "code",
   "execution_count": 11,
   "metadata": {},
   "outputs": [
    {
     "output_type": "execute_result",
     "data": {
      "text/plain": [
       "(1860, 2)"
      ]
     },
     "metadata": {},
     "execution_count": 11
    }
   ],
   "source": [
    "final.shape"
   ]
  },
  {
   "cell_type": "code",
   "execution_count": 12,
   "metadata": {},
   "outputs": [],
   "source": [
    "finalT=onehotencoder.transform([[each] for each in dataT.FTR]).toarray()"
   ]
  },
  {
   "cell_type": "code",
   "execution_count": 13,
   "metadata": {},
   "outputs": [
    {
     "output_type": "execute_result",
     "data": {
      "text/plain": [
       "(800, 2)"
      ]
     },
     "metadata": {},
     "execution_count": 13
    }
   ],
   "source": [
    "finalT.shape"
   ]
  },
  {
   "cell_type": "code",
   "execution_count": 14,
   "metadata": {},
   "outputs": [],
   "source": [
    "data.loc[:,\"final1\"]=final[:,0]\n",
    "data.loc[:,\"final2\"]=final[:,1]"
   ]
  },
  {
   "cell_type": "code",
   "execution_count": 15,
   "metadata": {},
   "outputs": [
    {
     "output_type": "execute_result",
     "data": {
      "text/plain": [
       "   FTR  HTGS  ATGS  HTGC  ATGC  HTP  ATP  HM1  HM2  HM3  ...  ATWinStreak5  \\\n",
       "0    0   0.0   0.0   0.0   0.0  0.0  0.0    2    2    2  ...             0   \n",
       "1    0   0.0   0.0   0.0   0.0  0.0  0.0    2    2    2  ...             0   \n",
       "2    1   0.0   0.0   0.0   0.0  0.0  0.0    2    2    2  ...             0   \n",
       "3    0   0.0   0.0   0.0   0.0  0.0  0.0    2    2    2  ...             0   \n",
       "4    1   0.0   0.0   0.0   0.0  0.0  0.0    2    2    2  ...             0   \n",
       "\n",
       "   ATLossStreak3  ATLossStreak5  HTGD  ATGD  DiffPts  DiffFormPts  DiffLP  \\\n",
       "0              0              0   0.0   0.0      0.0          0.0   -11.0   \n",
       "1              0              0   0.0   0.0      0.0          0.0     2.0   \n",
       "2              0              0   0.0   0.0      0.0          0.0     2.0   \n",
       "3              0              0   0.0   0.0      0.0          0.0   -17.0   \n",
       "4              0              0   0.0   0.0      0.0          0.0     4.0   \n",
       "\n",
       "   final1  final2  \n",
       "0     1.0     0.0  \n",
       "1     1.0     0.0  \n",
       "2     0.0     1.0  \n",
       "3     1.0     0.0  \n",
       "4     0.0     1.0  \n",
       "\n",
       "[5 rows x 32 columns]"
      ],
      "text/html": "<div>\n<style scoped>\n    .dataframe tbody tr th:only-of-type {\n        vertical-align: middle;\n    }\n\n    .dataframe tbody tr th {\n        vertical-align: top;\n    }\n\n    .dataframe thead th {\n        text-align: right;\n    }\n</style>\n<table border=\"1\" class=\"dataframe\">\n  <thead>\n    <tr style=\"text-align: right;\">\n      <th></th>\n      <th>FTR</th>\n      <th>HTGS</th>\n      <th>ATGS</th>\n      <th>HTGC</th>\n      <th>ATGC</th>\n      <th>HTP</th>\n      <th>ATP</th>\n      <th>HM1</th>\n      <th>HM2</th>\n      <th>HM3</th>\n      <th>...</th>\n      <th>ATWinStreak5</th>\n      <th>ATLossStreak3</th>\n      <th>ATLossStreak5</th>\n      <th>HTGD</th>\n      <th>ATGD</th>\n      <th>DiffPts</th>\n      <th>DiffFormPts</th>\n      <th>DiffLP</th>\n      <th>final1</th>\n      <th>final2</th>\n    </tr>\n  </thead>\n  <tbody>\n    <tr>\n      <th>0</th>\n      <td>0</td>\n      <td>0.0</td>\n      <td>0.0</td>\n      <td>0.0</td>\n      <td>0.0</td>\n      <td>0.0</td>\n      <td>0.0</td>\n      <td>2</td>\n      <td>2</td>\n      <td>2</td>\n      <td>...</td>\n      <td>0</td>\n      <td>0</td>\n      <td>0</td>\n      <td>0.0</td>\n      <td>0.0</td>\n      <td>0.0</td>\n      <td>0.0</td>\n      <td>-11.0</td>\n      <td>1.0</td>\n      <td>0.0</td>\n    </tr>\n    <tr>\n      <th>1</th>\n      <td>0</td>\n      <td>0.0</td>\n      <td>0.0</td>\n      <td>0.0</td>\n      <td>0.0</td>\n      <td>0.0</td>\n      <td>0.0</td>\n      <td>2</td>\n      <td>2</td>\n      <td>2</td>\n      <td>...</td>\n      <td>0</td>\n      <td>0</td>\n      <td>0</td>\n      <td>0.0</td>\n      <td>0.0</td>\n      <td>0.0</td>\n      <td>0.0</td>\n      <td>2.0</td>\n      <td>1.0</td>\n      <td>0.0</td>\n    </tr>\n    <tr>\n      <th>2</th>\n      <td>1</td>\n      <td>0.0</td>\n      <td>0.0</td>\n      <td>0.0</td>\n      <td>0.0</td>\n      <td>0.0</td>\n      <td>0.0</td>\n      <td>2</td>\n      <td>2</td>\n      <td>2</td>\n      <td>...</td>\n      <td>0</td>\n      <td>0</td>\n      <td>0</td>\n      <td>0.0</td>\n      <td>0.0</td>\n      <td>0.0</td>\n      <td>0.0</td>\n      <td>2.0</td>\n      <td>0.0</td>\n      <td>1.0</td>\n    </tr>\n    <tr>\n      <th>3</th>\n      <td>0</td>\n      <td>0.0</td>\n      <td>0.0</td>\n      <td>0.0</td>\n      <td>0.0</td>\n      <td>0.0</td>\n      <td>0.0</td>\n      <td>2</td>\n      <td>2</td>\n      <td>2</td>\n      <td>...</td>\n      <td>0</td>\n      <td>0</td>\n      <td>0</td>\n      <td>0.0</td>\n      <td>0.0</td>\n      <td>0.0</td>\n      <td>0.0</td>\n      <td>-17.0</td>\n      <td>1.0</td>\n      <td>0.0</td>\n    </tr>\n    <tr>\n      <th>4</th>\n      <td>1</td>\n      <td>0.0</td>\n      <td>0.0</td>\n      <td>0.0</td>\n      <td>0.0</td>\n      <td>0.0</td>\n      <td>0.0</td>\n      <td>2</td>\n      <td>2</td>\n      <td>2</td>\n      <td>...</td>\n      <td>0</td>\n      <td>0</td>\n      <td>0</td>\n      <td>0.0</td>\n      <td>0.0</td>\n      <td>0.0</td>\n      <td>0.0</td>\n      <td>4.0</td>\n      <td>0.0</td>\n      <td>1.0</td>\n    </tr>\n  </tbody>\n</table>\n<p>5 rows × 32 columns</p>\n</div>"
     },
     "metadata": {},
     "execution_count": 15
    }
   ],
   "source": [
    "# data=data.drop([\"final\"],axis=1)\n",
    "data.head()"
   ]
  },
  {
   "cell_type": "code",
   "execution_count": 16,
   "metadata": {},
   "outputs": [],
   "source": [
    "dataT.loc[:,\"final1\"]=finalT[:,0]\n",
    "dataT.loc[:,\"final2\"]=finalT[:,1]"
   ]
  },
  {
   "cell_type": "code",
   "execution_count": 17,
   "metadata": {},
   "outputs": [
    {
     "output_type": "execute_result",
     "data": {
      "text/plain": [
       "   FTR  HTGS      ATGS      HTGC      ATGC       HTP       ATP  HM1  HM2  HM3  \\\n",
       "0    1  0.38  0.468750  0.626506  0.632911  0.000000  0.000000    1    1    1   \n",
       "1    0  0.48  0.354167  0.578313  0.936709  0.028571  0.085714    0    3    1   \n",
       "2    1  0.38  0.281250  0.566265  0.518987  0.000000  0.085714    1    1    3   \n",
       "3    0  0.55  0.583333  0.409639  0.506329  0.000000  0.000000    1    3    3   \n",
       "4    1  0.34  0.614583  0.518072  0.518987  0.000000  0.085714    1    3    1   \n",
       "\n",
       "   ...  ATWinStreak5  ATLossStreak3  ATLossStreak5      HTGD      ATGD  \\\n",
       "0  ...             0              0              0 -0.400000 -0.142857   \n",
       "1  ...             0              0              0  0.000000 -1.142857   \n",
       "2  ...             0              0              0 -0.257143 -0.400000   \n",
       "3  ...             0              0              0  0.600000  0.457143   \n",
       "4  ...             0              0              0 -0.257143  0.514286   \n",
       "\n",
       "    DiffPts  DiffFormPts  DiffLP  final1  final2  \n",
       "0  0.000000    -0.028571    -2.0     0.0     1.0  \n",
       "1 -0.057143    -0.057143   -13.0     1.0     0.0  \n",
       "2 -0.085714    -0.171429     2.0     0.0     1.0  \n",
       "3  0.000000     0.085714    -2.0     1.0     0.0  \n",
       "4 -0.085714     0.028571    12.0     0.0     1.0  \n",
       "\n",
       "[5 rows x 32 columns]"
      ],
      "text/html": "<div>\n<style scoped>\n    .dataframe tbody tr th:only-of-type {\n        vertical-align: middle;\n    }\n\n    .dataframe tbody tr th {\n        vertical-align: top;\n    }\n\n    .dataframe thead th {\n        text-align: right;\n    }\n</style>\n<table border=\"1\" class=\"dataframe\">\n  <thead>\n    <tr style=\"text-align: right;\">\n      <th></th>\n      <th>FTR</th>\n      <th>HTGS</th>\n      <th>ATGS</th>\n      <th>HTGC</th>\n      <th>ATGC</th>\n      <th>HTP</th>\n      <th>ATP</th>\n      <th>HM1</th>\n      <th>HM2</th>\n      <th>HM3</th>\n      <th>...</th>\n      <th>ATWinStreak5</th>\n      <th>ATLossStreak3</th>\n      <th>ATLossStreak5</th>\n      <th>HTGD</th>\n      <th>ATGD</th>\n      <th>DiffPts</th>\n      <th>DiffFormPts</th>\n      <th>DiffLP</th>\n      <th>final1</th>\n      <th>final2</th>\n    </tr>\n  </thead>\n  <tbody>\n    <tr>\n      <th>0</th>\n      <td>1</td>\n      <td>0.38</td>\n      <td>0.468750</td>\n      <td>0.626506</td>\n      <td>0.632911</td>\n      <td>0.000000</td>\n      <td>0.000000</td>\n      <td>1</td>\n      <td>1</td>\n      <td>1</td>\n      <td>...</td>\n      <td>0</td>\n      <td>0</td>\n      <td>0</td>\n      <td>-0.400000</td>\n      <td>-0.142857</td>\n      <td>0.000000</td>\n      <td>-0.028571</td>\n      <td>-2.0</td>\n      <td>0.0</td>\n      <td>1.0</td>\n    </tr>\n    <tr>\n      <th>1</th>\n      <td>0</td>\n      <td>0.48</td>\n      <td>0.354167</td>\n      <td>0.578313</td>\n      <td>0.936709</td>\n      <td>0.028571</td>\n      <td>0.085714</td>\n      <td>0</td>\n      <td>3</td>\n      <td>1</td>\n      <td>...</td>\n      <td>0</td>\n      <td>0</td>\n      <td>0</td>\n      <td>0.000000</td>\n      <td>-1.142857</td>\n      <td>-0.057143</td>\n      <td>-0.057143</td>\n      <td>-13.0</td>\n      <td>1.0</td>\n      <td>0.0</td>\n    </tr>\n    <tr>\n      <th>2</th>\n      <td>1</td>\n      <td>0.38</td>\n      <td>0.281250</td>\n      <td>0.566265</td>\n      <td>0.518987</td>\n      <td>0.000000</td>\n      <td>0.085714</td>\n      <td>1</td>\n      <td>1</td>\n      <td>3</td>\n      <td>...</td>\n      <td>0</td>\n      <td>0</td>\n      <td>0</td>\n      <td>-0.257143</td>\n      <td>-0.400000</td>\n      <td>-0.085714</td>\n      <td>-0.171429</td>\n      <td>2.0</td>\n      <td>0.0</td>\n      <td>1.0</td>\n    </tr>\n    <tr>\n      <th>3</th>\n      <td>0</td>\n      <td>0.55</td>\n      <td>0.583333</td>\n      <td>0.409639</td>\n      <td>0.506329</td>\n      <td>0.000000</td>\n      <td>0.000000</td>\n      <td>1</td>\n      <td>3</td>\n      <td>3</td>\n      <td>...</td>\n      <td>0</td>\n      <td>0</td>\n      <td>0</td>\n      <td>0.600000</td>\n      <td>0.457143</td>\n      <td>0.000000</td>\n      <td>0.085714</td>\n      <td>-2.0</td>\n      <td>1.0</td>\n      <td>0.0</td>\n    </tr>\n    <tr>\n      <th>4</th>\n      <td>1</td>\n      <td>0.34</td>\n      <td>0.614583</td>\n      <td>0.518072</td>\n      <td>0.518987</td>\n      <td>0.000000</td>\n      <td>0.085714</td>\n      <td>1</td>\n      <td>3</td>\n      <td>1</td>\n      <td>...</td>\n      <td>0</td>\n      <td>0</td>\n      <td>0</td>\n      <td>-0.257143</td>\n      <td>0.514286</td>\n      <td>-0.085714</td>\n      <td>0.028571</td>\n      <td>12.0</td>\n      <td>0.0</td>\n      <td>1.0</td>\n    </tr>\n  </tbody>\n</table>\n<p>5 rows × 32 columns</p>\n</div>"
     },
     "metadata": {},
     "execution_count": 17
    }
   ],
   "source": [
    "# data=data.drop([\"final\"],axis=1)\n",
    "dataT.head()"
   ]
  },
  {
   "cell_type": "code",
   "execution_count": 18,
   "metadata": {},
   "outputs": [
    {
     "output_type": "execute_result",
     "data": {
      "text/plain": [
       "(800, 2)"
      ]
     },
     "metadata": {},
     "execution_count": 18
    }
   ],
   "source": [
    "dataT[[\"final1\",\"final2\"]].values.shape"
   ]
  },
  {
   "cell_type": "code",
   "execution_count": 19,
   "metadata": {},
   "outputs": [],
   "source": [
    "data=data.drop([\"HM5\",\"AM5\"],axis=1)\n",
    "dataT=dataT.drop([\"HM5\",\"AM5\"],axis=1)"
   ]
  },
  {
   "cell_type": "code",
   "execution_count": 20,
   "metadata": {},
   "outputs": [
    {
     "output_type": "stream",
     "name": "stdout",
     "text": [
      "(1860, 30)\n(800, 30)\n"
     ]
    }
   ],
   "source": [
    "print(data.shape)\n",
    "print(dataT.shape)"
   ]
  },
  {
   "cell_type": "code",
   "execution_count": 21,
   "metadata": {},
   "outputs": [],
   "source": [
    "data.to_csv(\"allAtt_onehot_large_train.csv\",index=None)\n",
    "dataT.to_csv(\"allAtt_onehot_large_test.csv\",index=None)\n"
   ]
  },
  {
   "cell_type": "code",
   "execution_count": null,
   "metadata": {},
   "outputs": [],
   "source": []
  }
 ],
 "metadata": {
  "kernelspec": {
   "display_name": "Python 3",
   "language": "python",
   "name": "python3"
  },
  "language_info": {
   "codemirror_mode": {
    "name": "ipython",
    "version": 3
   },
   "file_extension": ".py",
   "mimetype": "text/x-python",
   "name": "python",
   "nbconvert_exporter": "python",
   "pygments_lexer": "ipython3",
   "version": "3.8.3-final"
  }
 },
 "nbformat": 4,
 "nbformat_minor": 2
}